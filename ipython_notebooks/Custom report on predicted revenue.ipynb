{
  "metadata": {
    "kernelspec": {
      "name": "py-dku-containerized-venv-python-36-base-dataiku-default",
      "display_name": "Python in dataiku-Default (env python-36-base)",
      "language": "python"
    },
    "language_info": {
      "codemirror_mode": {
        "name": "ipython",
        "version": 2
      },
      "file_extension": ".py",
      "mimetype": "text/x-python",
      "name": "python",
      "nbconvert_exporter": "python",
      "pygments_lexer": "ipython2",
      "version": "2.7.5"
    },
    "hide_input": false,
    "modifiedBy": "fr08720"
  },
  "nbformat": 4,
  "nbformat_minor": 1,
  "cells": [
    {
      "execution_count": 0,
      "cell_type": "code",
      "metadata": {},
      "source": [
        "import dataiku\nfrom dataiku import pandasutils as pdu\nimport pandas as pd\nimport sys\nfrom IPython.core.display import HTML\nfrom math import floor"
      ],
      "outputs": []
    },
    {
      "execution_count": 0,
      "cell_type": "code",
      "metadata": {},
      "source": [
        "## Example: load a DDS dataset as a Pandas data frame\nmydataset \u003d dataiku.Dataset(\"revenue_prediction\")\nmydataset_df \u003d mydataset.get_dataframe()"
      ],
      "outputs": []
    },
    {
      "execution_count": 0,
      "cell_type": "code",
      "metadata": {},
      "source": [
        "us_customers \u003d mydataset_df[mydataset_df.ip_country \u003d\u003d \u0027United States\u0027]"
      ],
      "outputs": []
    },
    {
      "execution_count": 0,
      "cell_type": "code",
      "metadata": {},
      "source": [
        "HTML(\"\u003cul\u003e\"\n    + \"\u003cli\u003e Average revenue expected per american customer : $ %d\u003c/li\u003e\" % floor(us_customers.prediction.mean())\n    + \"\u003cli\u003eTotal revenue expected in the U.S. : $ %d\u003c/li\u003e\" % floor(us_customers.prediction.sum())\n    + \"\u003c/ul\u003e\"\n    )"
      ],
      "outputs": []
    },
    {
      "execution_count": 0,
      "cell_type": "code",
      "metadata": {},
      "source": [
        "dataiku.api_client()"
      ],
      "outputs": []
    },
    {
      "execution_count": 0,
      "cell_type": "code",
      "metadata": {},
      "source": [
        "print(python_version())"
      ],
      "outputs": []
    },
    {
      "execution_count": 0,
      "cell_type": "code",
      "metadata": {},
      "source": [
        ""
      ],
      "outputs": []
    },
    {
      "execution_count": 0,
      "cell_type": "code",
      "metadata": {},
      "source": [
        ""
      ],
      "outputs": []
    }
  ]
}