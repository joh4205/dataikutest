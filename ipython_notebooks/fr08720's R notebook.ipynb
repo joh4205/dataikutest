{
  "metadata": {
    "kernelspec": {
      "name": "r-dku-venv-r_test_johann",
      "display_name": "R (env R_Test_Johann)",
      "language": "R"
    },
    "hide_input": false,
    "language_info": {
      "name": "R",
      "codemirror_mode": "r",
      "pygments_lexer": "r",
      "mimetype": "text/x-r-source",
      "file_extension": ".r",
      "version": "4.3.2"
    },
    "createdOn": 1709907029462,
    "creator": "fr08720",
    "customFields": {},
    "tags": [],
    "modifiedBy": "fr08720"
  },
  "nbformat": 4,
  "nbformat_minor": 1,
  "cells": [
    {
      "execution_count": 0,
      "cell_type": "code",
      "metadata": {},
      "source": [
        "library(dataiku)"
      ],
      "outputs": []
    },
    {
      "execution_count": 0,
      "cell_type": "code",
      "metadata": {},
      "source": [
        "# Example: load a DSS dataset as a R dataframe\nmydataset \u003c- dkuReadDataset(\"mydataset\", samplingMethod\u003d\"head\", nbRows\u003d100000)"
      ],
      "outputs": []
    },
    {
      "execution_count": 0,
      "cell_type": "code",
      "metadata": {},
      "source": [
        "getRversion()"
      ],
      "outputs": []
    },
    {
      "execution_count": 0,
      "cell_type": "code",
      "metadata": {},
      "source": [
        ""
      ],
      "outputs": []
    }
  ]
}