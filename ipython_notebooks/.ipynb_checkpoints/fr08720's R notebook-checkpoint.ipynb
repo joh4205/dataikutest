{
  "metadata": {
    "kernelspec": {
      "display_name": "R (env Test_R_Johann)",
      "language": "R",
      "name": "r-dku-venv-test_r_johann"
    },
    "creator": "fr08720",
    "createdOn": 1709546469598,
    "tags": [],
    "customFields": {}
  },
  "nbformat": 4,
  "nbformat_minor": 0,
  "cells": [
    {
      "execution_count": 0,
      "cell_type": "code",
      "metadata": {},
      "source": [
        "library(dataiku)"
      ],
      "outputs": []
    },
    {
      "execution_count": 0,
      "cell_type": "code",
      "metadata": {},
      "source": [
        "# Example: load a DSS dataset as a R dataframe\n",
        "mydataset \u003c- dkuReadDataset(\"mydataset\", samplingMethod\u003d\"head\", nbRows\u003d100000)"
      ],
      "outputs": []
    },
    {
      "execution_count": 0,
      "cell_type": "code",
      "metadata": {},
      "source": [],
      "outputs": []
    }
  ]
}