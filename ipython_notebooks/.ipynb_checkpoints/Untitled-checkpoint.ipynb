{
  "metadata": {
    "creator": "fr08720",
    "createdOn": 1710755675978,
    "tags": [],
    "customFields": {}
  },
  "nbformat": 4,
  "nbformat_minor": 2,
  "cells": []
}