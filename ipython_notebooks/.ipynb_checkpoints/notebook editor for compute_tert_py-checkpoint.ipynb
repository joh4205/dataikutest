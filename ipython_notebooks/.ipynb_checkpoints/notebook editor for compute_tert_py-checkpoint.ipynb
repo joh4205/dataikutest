{
  "nbformat": 4,
  "nbformat_minor": 0,
  "metadata": {
    "kernelspec": {
      "display_name": "Python 3",
      "language": "python",
      "name": "python3"
    },
    "associatedRecipe": "compute_tert_py",
    "creator": "E0196103",
    "createdOn": 1709734940775,
    "tags": [
      "recipe-editor"
    ],
    "customFields": {}
  },
  "cells": [
    {
      "cell_type": "code",
      "metadata": {},
      "outputs": [],
      "execution_count": 0,
      "source": [
        "# -*- coding: utf-8 -*-\n",
        "import dataiku\n",
        "import pandas as pd, numpy as np\n",
        "from dataiku import pandasutils as pdu\n",
        "\n",
        "# Read recipe inputs\n",
        "web_history_prepared \u003d dataiku.Dataset(\"web_history_prepared\")\n",
        "web_history_prepared_df \u003d web_history_prepared.get_dataframe()\n",
        "\n",
        "\n",
        "# Compute recipe outputs from inputs\n",
        "# TODO: Replace this part by your actual code that computes the output, as a Pandas dataframe\n",
        "# NB: DSS also supports other kinds of APIs for reading and writing data. Please see doc.\n",
        "\n",
        "tert_py_df \u003d web_history_prepared_df # For this sample code, simply copy input to output\n",
        "\n",
        "\n",
        "# Write recipe outputs\n",
        "tert_py \u003d dataiku.Dataset(\"tert_py\")\n",
        "tert_py.write_with_schema(tert_py_df)"
      ]
    }
  ]
}